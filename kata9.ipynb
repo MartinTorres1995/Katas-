{
 "cells": [
  {
   "cell_type": "code",
   "execution_count": 4,
   "metadata": {},
   "outputs": [
    {
     "data": {
      "text/plain": [
       "'reporte de los tanques:\\n    tanque 1 : 80%\\n    tanque 2 : 70%\\n    tanque 3 : 78%\\n    el promedio es 76.0%\\n    '"
      ]
     },
     "execution_count": 4,
     "metadata": {},
     "output_type": "execute_result"
    }
   ],
   "source": [
    "def tanques(tanque,tanquedos,tanquetres):\n",
    "    totalp= (tanque + tanquedos + tanquetres)/3\n",
    "    \n",
    "    return f\"\"\"reporte de los tanques:\n",
    "    tanque 1 : {tanque}%\n",
    "    tanque 2 : {tanquedos}%\n",
    "    tanque 3 : {tanquetres}%\n",
    "    el promedio es {totalp}%\n",
    "    \"\"\"\n",
    "\n",
    "tanques(80,70,78)\n",
    "  "
   ]
  },
  {
   "cell_type": "code",
   "execution_count": 48,
   "metadata": {},
   "outputs": [
    {
     "data": {
      "text/plain": [
       "82.0"
      ]
     },
     "execution_count": 48,
     "metadata": {},
     "output_type": "execute_result"
    }
   ],
   "source": [
    "def average(values):\n",
    "    total = sum(values)\n",
    "    number_of_items = len(values)\n",
    "    return total / number_of_items\n",
    "\n",
    "average([80, 85, 81]) "
   ]
  },
  {
   "cell_type": "code",
   "execution_count": 53,
   "metadata": {},
   "outputs": [
    {
     "name": "stdout",
     "output_type": "stream",
     "text": [
      "reporte de los tanques:\n",
      "    tanque 1 : 88%\n",
      "    tanque 2 : 76%\n",
      "    tanque 3 : 70%\n",
      "    el promedio es 78.0%\n",
      "    \n"
     ]
    }
   ],
   "source": [
    "def average(values):\n",
    "    total = sum(values)\n",
    "    number_of_items = len(values)\n",
    "    return total / number_of_items\n",
    "\n",
    "\n",
    "\n",
    "def tanques(tanque,tanquedos,tanquetres):\n",
    "    return f\"\"\"reporte de los tanques:\n",
    "    tanque 1 : {tanque}%\n",
    "    tanque 2 : {tanquedos}%\n",
    "    tanque 3 : {tanquetres}%\n",
    "    el promedio es {average([tanque,tanquedos,tanquetres])}%\n",
    "    \"\"\"\n",
    "print(tanques(88,76,70))\n"
   ]
  },
  {
   "cell_type": "code",
   "execution_count": 58,
   "metadata": {},
   "outputs": [
    {
     "data": {
      "text/plain": [
       "' los datos son\\n     tiempo preelanzamiento :14\\n tiempo lanzamiento: 51\\n destino: moon\\n tanque izquierdo:200000\\n tanque central: 300000\\n tiempo total : 65 minutos\\n gas restante: 500000 galones\\n    '"
      ]
     },
     "execution_count": 58,
     "metadata": {},
     "output_type": "execute_result"
    }
   ],
   "source": [
    "def datos(tiempopree,tiempolanz,destino,tizq,tcen):\n",
    "    return f\"\"\" los datos son\n",
    "     tiempo preelanzamiento :{tiempopree}\n",
    " tiempo lanzamiento: {tiempolanz}\n",
    " destino: {destino}\n",
    " tanque izquierdo:{tizq}\n",
    " tanque central: {tcen}\n",
    " tiempo total : {(tiempolanz)+(tiempopree)} minutos\n",
    " gas restante: {(tizq)+(tcen)} galones\n",
    "    \"\"\"\n",
    "    \n",
    "datos(14,51,\"moon\",200000,300000)\n",
    "\n"
   ]
  },
  {
   "cell_type": "code",
   "execution_count": 89,
   "metadata": {},
   "outputs": [
    {
     "name": "stdout",
     "output_type": "stream",
     "text": [
      " datos\n",
      "     destino: Moon\n",
      "     tiempo total: 74\n",
      "     tanque : 500000\n",
      "     \n"
     ]
    }
   ],
   "source": [
    "def datos_new(destino,*tiempos,**tanque):\n",
    "     return f\"\"\" datos\n",
    "     destino: {destino}\n",
    "     tiempo total: {sum(tiempos)}\n",
    "     tanque : {sum(tanque.values())}\n",
    "     \"\"\"\n",
    "     \n",
    "print(datos_new(\"Moon\", 8, 11, 55, main=300000, external=200000))"
   ]
  },
  {
   "cell_type": "code",
   "execution_count": 1,
   "metadata": {},
   "outputs": [
    {
     "name": "stdout",
     "output_type": "stream",
     "text": [
      " datos\n",
      "     destino: Moon\n",
      "     tiempo total: 74\n",
      "     tanque : 500000\n",
      "     main tank --> 300000 gallons left\n",
      "external tank --> 200000 gallons left\n",
      "\n"
     ]
    }
   ],
   "source": [
    "def datos_new(destino,*tiempos,**tanque):\n",
    "    main_report = f\"\"\"\"\"\"f\"\"\" datos\n",
    "     destino: {destino}\n",
    "     tiempo total: {sum(tiempos)}\n",
    "     tanque : {sum(tanque.values())}\n",
    "     \"\"\"\n",
    "    for tank, gallons in tanque.items():\n",
    "        main_report += f\"{tank} tank --> {gallons} gallons left\\n\"\n",
    "    return main_report\n",
    "  \n",
    "print(datos_new(\"Moon\", 8, 11, 55, main=300000, external=200000))\n"
   ]
  }
 ],
 "metadata": {
  "interpreter": {
   "hash": "32f87556678544601ca92080863ab251b656637e7eaa89ac6288451144aed640"
  },
  "kernelspec": {
   "display_name": "Python 3.10.2 64-bit",
   "language": "python",
   "name": "python3"
  },
  "language_info": {
   "codemirror_mode": {
    "name": "ipython",
    "version": 3
   },
   "file_extension": ".py",
   "mimetype": "text/x-python",
   "name": "python",
   "nbconvert_exporter": "python",
   "pygments_lexer": "ipython3",
   "version": "3.10.2"
  },
  "orig_nbformat": 4
 },
 "nbformat": 4,
 "nbformat_minor": 2
}

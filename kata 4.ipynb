{
 "cells": [
  {
   "cell_type": "code",
   "execution_count": 43,
   "metadata": {},
   "outputs": [
    {
     "name": "stdout",
     "output_type": "stream",
     "text": [
      "\n",
      "On average, the Moon moves 4cm away from the Earth every year\n",
      "The highest daylight temperature of the Moon is 127 C.\n",
      "\n",
      "On average, the Moon moves 4cm away from the Earth every year\n",
      "The highest daylight temperature of the Moon is 127 celcius.\n"
     ]
    }
   ],
   "source": [
    "\n",
    "fact =  \"\"\"Interesting facts about the Moon. The Moon is Earth's only satellite. There are several interesting facts about the Moon and how it affects life here on Earth. \n",
    "On average, the Moon moves 4cm away from the Earth every year. This yearly drift is not significant enough to cause immediate effects on Earth. The highest daylight temperature of the Moon is 127 C.\"\"\"\n",
    "\n",
    "x = fact.split(\". \")\n",
    "\n",
    "palabras = [\"average\", \"temperature\", \"distance\"]\n",
    "\n",
    "for v in x:\n",
    "   for busqueda in palabras:\n",
    "     if busqueda in v:\n",
    "       print(v)\n",
    "\n",
    "for v in x:\n",
    "   for busqueda in palabras:\n",
    "     if busqueda in v:\n",
    "       print(v.replace(\"C\",\"celcius\"))\n",
    "       \n"
   ]
  },
  {
   "cell_type": "code",
   "execution_count": 31,
   "metadata": {},
   "outputs": [
    {
     "name": "stdout",
     "output_type": "stream",
     "text": [
      "Nombre del planeta: Earth\n",
      "Gravedad en Earth: 1.6199999999999999 m/s2 \n",
      "\n",
      "gravedad en Moon \n",
      " Nombre del planeta: Earth\n",
      "Gravedad en Earth: 1.6199999999999999 m/s2 \n",
      "\n"
     ]
    }
   ],
   "source": [
    "name = \"Moon\"\n",
    "gravity = 0.00162 # in kms\n",
    "planet = \"Earth\"\n",
    "\n",
    "titulo = f'gravedad en {name}'\n",
    "\n",
    "hechos = f\"\"\"Nombre del planeta: {planet}\n",
    "Gravedad en {planet}: {gravity * 1000} m/s2 \n",
    "\"\"\"\n",
    "print(hechos)\n",
    "\n",
    "combinacion = \"{} \\n {}\".format(titulo,hechos)\n",
    "\n",
    "print(combinacion)"
   ]
  },
  {
   "cell_type": "code",
   "execution_count": 35,
   "metadata": {},
   "outputs": [
    {
     "name": "stdout",
     "output_type": "stream",
     "text": [
      "Nombre del planeta: marte\n",
      "Gravedad en marte: 1.4300000000000002 m/s2 \n",
      "\n",
      "gravedad en ganimedes \n",
      " Nombre del planeta: marte\n",
      "Gravedad en marte: 1.4300000000000002 m/s2 \n",
      "\n"
     ]
    }
   ],
   "source": [
    "name = \"ganimedes\"\n",
    "gravity = 0.00143 # in kms\n",
    "planet = \"marte\"\n",
    "\n",
    "titulo = f'gravedad en {name}'\n",
    "\n",
    "hechos = f\"\"\"Nombre del planeta: {planet}\n",
    "Gravedad en {planet}: {gravity * 1000} m/s2 \n",
    "\"\"\"\n",
    "print(hechos)\n",
    "\n",
    "combinacion = \"{a} \\n {b}\".format(a= titulo,b= hechos)\n",
    "\n",
    "print(combinacion)"
   ]
  },
  {
   "cell_type": "code",
   "execution_count": 34,
   "metadata": {},
   "outputs": [
    {
     "name": "stdout",
     "output_type": "stream",
     "text": [
      "Nombre del planeta: Earth\n",
      "Gravedad en Earth: 1.6199999999999999 m/s2 \n",
      "\n",
      "Nombre del planeta: Earth\n",
      "Gravedad en Earth: 1.6199999999999999 m/s2 \n",
      " gravedad en Moon\n"
     ]
    }
   ],
   "source": [
    "name = \"Moon\"\n",
    "gravity = 0.00162 # in kms\n",
    "planet = \"Earth\"\n",
    "\n",
    "titulo = f'gravedad en {name}'\n",
    "\n",
    "hechos = f\"\"\"Nombre del planeta: {planet}\n",
    "Gravedad en {planet}: {gravity * 1000} m/s2 \n",
    "\"\"\"\n",
    "print(hechos)\n",
    "\n",
    "combinacion = f\"\"\"{hechos} {titulo}\"\"\"\n",
    "\n",
    "print(combinacion)"
   ]
  }
 ],
 "metadata": {
  "interpreter": {
   "hash": "32f87556678544601ca92080863ab251b656637e7eaa89ac6288451144aed640"
  },
  "kernelspec": {
   "display_name": "Python 3.10.2 64-bit",
   "language": "python",
   "name": "python3"
  },
  "language_info": {
   "codemirror_mode": {
    "name": "ipython",
    "version": 3
   },
   "file_extension": ".py",
   "mimetype": "text/x-python",
   "name": "python",
   "nbconvert_exporter": "python",
   "pygments_lexer": "ipython3",
   "version": "3.10.2"
  },
  "orig_nbformat": 4
 },
 "nbformat": 4,
 "nbformat_minor": 2
}

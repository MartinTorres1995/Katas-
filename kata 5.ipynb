{
 "cells": [
  {
   "cell_type": "code",
   "execution_count": 23,
   "metadata": {},
   "outputs": [
    {
     "name": "stdout",
     "output_type": "stream",
     "text": [
      "628949330\n",
      "390577534\n"
     ]
    }
   ],
   "source": [
    "tierra = 149597870\n",
    "jupiter = 778547200\n",
    "\n",
    "distancia = tierra - jupiter\n",
    "print(abs(distancia))\n",
    "distancia_millas = (abs(distancia)) * .621\n",
    "print(round(distancia_millas))"
   ]
  },
  {
   "cell_type": "code",
   "execution_count": 33,
   "metadata": {},
   "outputs": [
    {
     "name": "stdout",
     "output_type": "stream",
     "text": [
      "800\n",
      "496.8\n"
     ]
    }
   ],
   "source": [
    "nombre_p1 = int(input(\"distancia 1\"))\n",
    "nombre_p2 = int(input(\"distancia 2\"))\n",
    "distancias = (abs(nombre_p2 - nombre_p1))\n",
    "print(distancias)\n",
    "\n",
    "d_millas= distancias * .621\n",
    "print(abs(d_millas))\n"
   ]
  }
 ],
 "metadata": {
  "interpreter": {
   "hash": "32f87556678544601ca92080863ab251b656637e7eaa89ac6288451144aed640"
  },
  "kernelspec": {
   "display_name": "Python 3.10.2 64-bit",
   "language": "python",
   "name": "python3"
  },
  "language_info": {
   "codemirror_mode": {
    "name": "ipython",
    "version": 3
   },
   "file_extension": ".py",
   "mimetype": "text/x-python",
   "name": "python",
   "nbconvert_exporter": "python",
   "pygments_lexer": "ipython3",
   "version": "3.10.2"
  },
  "orig_nbformat": 4
 },
 "nbformat": 4,
 "nbformat_minor": 2
}

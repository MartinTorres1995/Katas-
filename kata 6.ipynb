{
 "cells": [
  {
   "cell_type": "code",
   "execution_count": 16,
   "metadata": {},
   "outputs": [
    {
     "name": "stdout",
     "output_type": "stream",
     "text": [
      "8\n",
      "9\n",
      "pluton\n"
     ]
    }
   ],
   "source": [
    "planets = ['Mercury', 'Venus', 'Earth', 'Mars', 'Jupiter', 'Saturn', 'Uranus', 'Neptune']\n",
    "N_planetas = len(planets)\n",
    "print(N_planetas)\n",
    "planets.append(\"pluton\")\n",
    "N_planetas = len(planets)\n",
    "print(N_planetas)\n",
    "Ultimo = planets[8]\n",
    "print(Ultimo)"
   ]
  },
  {
   "cell_type": "code",
   "execution_count": 36,
   "metadata": {},
   "outputs": [
    {
     "name": "stdout",
     "output_type": "stream",
     "text": [
      "2\n",
      " el planeta mas cercano al Venus\n",
      "['Mercury', 'Venus']\n",
      " el planeta mas lejano al Venus\n",
      "['Mars', 'Jupiter', 'Saturn', 'Neptune']\n"
     ]
    }
   ],
   "source": [
    "planets = ['Mercury', 'Venus', 'Earth', 'Mars', 'Jupiter', 'Saturn', 'Neptune']\n",
    "\n",
    "add_planteta = input(\"nombre del planeta,comienza con mayuscula\")\n",
    "\n",
    "lugarplaneta = planets.index(add_planteta) + 1\n",
    "print(lugarplaneta)\n",
    "print(\" el planeta mas cercano al \" + add_planteta)\n",
    "print(planets[0:lugarplaneta])\n",
    "print(\" el planeta mas lejano al \" + add_planteta)\n",
    "print(planets[lugarplaneta + 1:])"
   ]
  }
 ],
 "metadata": {
  "interpreter": {
   "hash": "32f87556678544601ca92080863ab251b656637e7eaa89ac6288451144aed640"
  },
  "kernelspec": {
   "display_name": "Python 3.10.2 64-bit",
   "language": "python",
   "name": "python3"
  },
  "language_info": {
   "codemirror_mode": {
    "name": "ipython",
    "version": 3
   },
   "file_extension": ".py",
   "mimetype": "text/x-python",
   "name": "python",
   "nbconvert_exporter": "python",
   "pygments_lexer": "ipython3",
   "version": "3.10.2"
  },
  "orig_nbformat": 4
 },
 "nbformat": 4,
 "nbformat_minor": 2
}

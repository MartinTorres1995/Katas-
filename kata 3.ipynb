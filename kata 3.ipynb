{
 "cells": [
  {
   "cell_type": "code",
   "execution_count": 18,
   "metadata": {},
   "outputs": [
    {
     "name": "stdout",
     "output_type": "stream",
     "text": [
      " no hay problema\n"
     ]
    }
   ],
   "source": [
    "a = 25\n",
    "b = int(input(\"velocidad asteroide\"))\n",
    "if b > a:\n",
    "   print(\"advertencia\")\n",
    "else:\n",
    "    print(\" no hay problema\")"
   ]
  },
  {
   "cell_type": "code",
   "execution_count": 43,
   "metadata": {},
   "outputs": [
    {
     "name": "stdout",
     "output_type": "stream",
     "text": [
      " no hay rayo 😒\n"
     ]
    }
   ],
   "source": [
    "a = 20\n",
    "b = 19\n",
    "if b >= a:\n",
    "  print(\"rayo de asteroide\")\n",
    "else:\n",
    "  print(\" no hay rayo 😒\")"
   ]
  },
  {
   "cell_type": "code",
   "execution_count": 12,
   "metadata": {},
   "outputs": [
    {
     "name": "stdout",
     "output_type": "stream",
     "text": [
      "peligro asteroide\n"
     ]
    }
   ],
   "source": [
    "asteroide = 26\n",
    "velocidad = 25\n",
    "rayo_luz = 20\n",
    "if asteroide > 25 or velocidad > 25:\n",
    "   print(\"peligro asteroide\")\n",
    "elif rayo_luz >= 20:\n",
    "    print(\"rayo de luz\")\n",
    "else:\n",
    "   print(\"no problem\")"
   ]
  },
  {
   "cell_type": "code",
   "execution_count": 37,
   "metadata": {},
   "outputs": [
    {
     "name": "stdout",
     "output_type": "stream",
     "text": [
      "advertencia\n"
     ]
    }
   ],
   "source": [
    "a = 25\n",
    "b = 20\n",
    "c = int(input(\"velocidad asteroide\"))\n",
    "d = int(input(\"tamaño del  asteroide\"))\n",
    "e = 1000\n",
    "f = int(input(\"tamaño del rayo\"))\n",
    "if  c > a or d > a:\n",
    "    print(\"advertencia\")\n",
    "elif b <= f:\n",
    "    print(\"rayo en el cielo\")"
   ]
  }
 ],
 "metadata": {
  "interpreter": {
   "hash": "32f87556678544601ca92080863ab251b656637e7eaa89ac6288451144aed640"
  },
  "kernelspec": {
   "display_name": "Python 3.10.2 64-bit",
   "language": "python",
   "name": "python3"
  },
  "language_info": {
   "codemirror_mode": {
    "name": "ipython",
    "version": 3
   },
   "file_extension": ".py",
   "mimetype": "text/x-python",
   "name": "python",
   "nbconvert_exporter": "python",
   "pygments_lexer": "ipython3",
   "version": "3.10.2"
  },
  "orig_nbformat": 4
 },
 "nbformat": 4,
 "nbformat_minor": 2
}
